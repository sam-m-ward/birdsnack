{
 "cells": [
  {
   "cell_type": "markdown",
   "id": "4d6b7e94",
   "metadata": {},
   "source": [
    "# Generating and Fitting Simulated Datasets with Bird-Snack\n",
    "\n",
    "The goal of this notebook is to introduce dataset simulation, and fitting, using Bird-Snack pipelines in the `sbc/` directory.\n",
    "\n",
    "BirdSnack Simulation-based calibration works by simulating datasets using a user-defined set of input hyperparameters, then fitting simulated datasets, and assessing recovery of input hyperparameters.\n",
    "\n",
    "The methods for posterior predictive checks are the same, but the input hyperparameters are taken from posterior samples in the birdsnack rootpath directory, i.e. `~/products/stan_fits/FITS/`.\n",
    "\n",
    "There are various custom plotting scripts also in `sbc/plotting_scripts/`.\n",
    "\n",
    "Let's start off with vanilla SBC.\n",
    "\n",
    "---\n",
    "---\n",
    "---\n",
    "# Simulation-Based Calibration\n",
    "\n",
    "Full script in `perform_sbc.py`"
   ]
  },
  {
   "cell_type": "markdown",
   "id": "32d7590f",
   "metadata": {},
   "source": [
    "## 1) Set path to sbc model_files, load up classes and `.yaml` choices"
   ]
  },
  {
   "cell_type": "code",
   "execution_count": 1,
   "id": "cf066c89",
   "metadata": {},
   "outputs": [
    {
     "data": {
      "text/plain": [
       "{'load_parameters': {'path_to_rootpath': 'sbc/',\n",
       "  'path_to_birdsnack_rootpath': './'},\n",
       " 'simulate_parameters': {'Nsims': 200,\n",
       "  'S': 100,\n",
       "  'simulator': 'BayeSN',\n",
       "  'bayesn_parameters': {'bymodel': 'M20', 'thetamode': 'random'},\n",
       "  'epsmode': 'random',\n",
       "  'FPC0m': 'bymodel',\n",
       "  'flts': ['B_CSP', 'V_CSP', 'r_CSP', 'i_CSP', 'J_RC1', 'H_RC'],\n",
       "  'tauA': 0.5,\n",
       "  'muRV': 2.5,\n",
       "  'sigRV': 0.5,\n",
       "  'AVsimdist': 'Exp',\n",
       "  'RVsimdist': 'Norm',\n",
       "  'nuA': 'None',\n",
       "  'PredefinedIntrinsicHyps': False,\n",
       "  'PredefinedExtrinsicHyps': False,\n",
       "  'pre_defined_hyps': {'load_file': 'Fiducial'}},\n",
       " 'fit_parameters': {'birdsnack_yaml': 'birdsnack_sbc'}}"
      ]
     },
     "execution_count": 1,
     "metadata": {},
     "output_type": "execute_result"
    }
   ],
   "source": [
    "#Import classes\n",
    "import sys, yaml\n",
    "sys.path.append('sbc/model_files/')\n",
    "from SBC import *\n",
    "\n",
    "#User defined choices for simulating datasets\n",
    "with open('sbc/sbc.yaml') as f:\n",
    "    sbc_choices = yaml.load(f, Loader=yaml.FullLoader)\n",
    "\n",
    "#Set paths to sbc/ rootpath directory, and birdsnack root directory\n",
    "sbc_choices['load_parameters']['path_to_rootpath'] = 'sbc/'\n",
    "sbc_choices['load_parameters']['path_to_birdsnack_rootpath'] = './'\n",
    "sbc_choices"
   ]
  },
  {
   "cell_type": "markdown",
   "id": "03127be8",
   "metadata": {},
   "source": [
    "## 2) Make custom choices for simulating, create edit_dictionary, and call `SBC` class instance"
   ]
  },
  {
   "cell_type": "code",
   "execution_count": 2,
   "id": "9f813471",
   "metadata": {},
   "outputs": [],
   "source": [
    "#Set tauA=0.3, muRV=2.5, sigRV=0.1\n",
    "dust_hyps = dict(zip(['tauA','muRV','sigRV'],[0.3,2.5,0.1]))\n",
    "\n",
    "#BayeSN installation required for BayeSN simulations, so let's use 'perfect' forward model to simulate datasets,\n",
    "#i.e. same BirdSnack model used for simulating as fitting\n",
    "#Also set FPC0m to be a std_normal draw\n",
    "#Finally, simulate 100 datasets\n",
    "simulator = {'simulator':'perfect','FPC0m':'random','Nsims':100}\n",
    "\n",
    "#Create edit dictionary to update values\n",
    "edit_dict   = {'simulate_parameters':{**dust_hyps,**simulator}}\n",
    "\n",
    "#Get SBC_CLASS\n",
    "sbc = SBC_CLASS(sbc_choices,edit_dict)"
   ]
  },
  {
   "cell_type": "markdown",
   "id": "ed895431",
   "metadata": {},
   "source": [
    "## 3) Simulate some datasets"
   ]
  },
  {
   "cell_type": "code",
   "execution_count": 3,
   "id": "fe00cb85",
   "metadata": {},
   "outputs": [
    {
     "name": "stdout",
     "output_type": "stream",
     "text": [
      "Done\n",
      "########################################\n"
     ]
    }
   ],
   "source": [
    "sbc.simulate_truths()"
   ]
  },
  {
   "cell_type": "markdown",
   "id": "5faf81e6",
   "metadata": {},
   "source": [
    "## 4) Fit datasets [commented out to save on time complexity]"
   ]
  },
  {
   "cell_type": "code",
   "execution_count": 4,
   "id": "ff3a5507",
   "metadata": {},
   "outputs": [],
   "source": [
    "#To get stan model running on jupyter notebook\n",
    "import nest_asyncio\n",
    "nest_asyncio.apply()\n",
    "\n",
    "#Fit truths (commented out to save time complexity)\n",
    "#sbc.fit_truths()"
   ]
  },
  {
   "cell_type": "markdown",
   "id": "cff5ec2c",
   "metadata": {},
   "source": [
    "## 5) Plot Results\n",
    "\n",
    "From here, check out `plot_sbc.py` to see how results can be plotted up.\n",
    "\n",
    "See also the full `perform_sbc.py` script."
   ]
  },
  {
   "cell_type": "markdown",
   "id": "c052a6f2",
   "metadata": {},
   "source": [
    "---\n",
    "---\n",
    "---"
   ]
  },
  {
   "cell_type": "markdown",
   "id": "83ffb7f0",
   "metadata": {},
   "source": [
    "# Posterior Predictive Checks\n",
    "\n",
    "The other way datasets can be simulated/fitted is to simulate using the posterior median hyperparameters from a BirdSnack fit to real data. Here is a quick demo on how this is done. Full script is `perform_ppc.py`"
   ]
  },
  {
   "cell_type": "markdown",
   "id": "dcaccbbf",
   "metadata": {},
   "source": [
    "## 1) Set up paths, load up classes and `.yaml` choices"
   ]
  },
  {
   "cell_type": "code",
   "execution_count": 5,
   "id": "9a16a8b6",
   "metadata": {},
   "outputs": [
    {
     "name": "stdout",
     "output_type": "stream",
     "text": [
      "Notice entries here are 'ppc'; these are eventually filled with values from real-data fit \n",
      "##############################\n"
     ]
    },
    {
     "data": {
      "text/plain": [
       "{'load_parameters': {'path_to_rootpath': 'sbc/',\n",
       "  'path_to_birdsnack_rootpath': './'},\n",
       " 'simulate_parameters': {'Nsims': 100,\n",
       "  'S': 'ppc',\n",
       "  'tauA': 'ppc',\n",
       "  'muRV': 'ppc',\n",
       "  'sigRV': 'ppc',\n",
       "  'epsmode': 'ppc',\n",
       "  'FPC0m': 'ppc',\n",
       "  'simulator': 'perfect',\n",
       "  'flts': ['B_CSP', 'V_CSP', 'r_CSP', 'i_CSP', 'J_RC1', 'H_RC'],\n",
       "  'AVsimdist': 'ppc',\n",
       "  'nuA': 'ppc',\n",
       "  'RVsimdist': 'ppc',\n",
       "  'PredefinedIntrinsicHyps': True,\n",
       "  'PredefinedExtrinsicHyps': True,\n",
       "  'pre_defined_hyps': {'load_file': 'None',\n",
       "   'ppc_zero_index': 'None',\n",
       "   'ppc_IntrinsicModel': 'None'}},\n",
       " 'fit_parameters': {'birdsnack_yaml': 'birdsnack_sbc'}}"
      ]
     },
     "execution_count": 5,
     "metadata": {},
     "output_type": "execute_result"
    }
   ],
   "source": [
    "import sys, yaml\n",
    "sys.path.append('sbc/model_files/')\n",
    "from SBC import *\n",
    "from sbc_plot_functions import update_edit_dict_for_ppc\n",
    "\n",
    "#This time load up ppc.yaml\n",
    "with open('sbc/ppc.yaml') as f:\n",
    "        sbc_choices = yaml.load(f, Loader=yaml.FullLoader)\n",
    "\n",
    "#Set paths to sbc/ rootpath directory, and birdsnack root directory\n",
    "sbc_choices['load_parameters']['path_to_rootpath'] = 'sbc/'\n",
    "sbc_choices['load_parameters']['path_to_birdsnack_rootpath'] = './'\n",
    "print (\"Notice entries here are 'ppc'; these are eventually filled with values from real-data fit \\n\"+\"###\"*10)\n",
    "sbc_choices"
   ]
  },
  {
   "cell_type": "markdown",
   "id": "370d64af",
   "metadata": {},
   "source": [
    "## 2) Use the `update_edit_dict_for_ppc` function to replace 'ppc' entries with real values"
   ]
  },
  {
   "cell_type": "code",
   "execution_count": 6,
   "id": "0587352a",
   "metadata": {},
   "outputs": [
    {
     "data": {
      "text/plain": [
       "{'simulate_parameters': {'Nsims': 100,\n",
       "  'pre_defined_hyps': {'load_file': 'AVExp_BVcut1.0',\n",
       "   'ppc_zero_index': 1,\n",
       "   'ppc_IntrinsicModel': 'Deviations'},\n",
       "  'S': 65,\n",
       "  'AVsimdist': 'Exp',\n",
       "  'RVsimdist': 'Norm',\n",
       "  'tauA': 0.3191,\n",
       "  'muRV': 2.6133,\n",
       "  'sigRV': 0.6385}}"
      ]
     },
     "execution_count": 6,
     "metadata": {},
     "output_type": "execute_result"
    }
   ],
   "source": [
    "#Choices for simulating data based on previous stan fit with BirdSnack\n",
    "edit_dict = {'simulate_parameters':{'Nsims':100,'pre_defined_hyps':{'load_file':'AVExp_BVcut1.0'}}}\n",
    "\n",
    "edit_dict = update_edit_dict_for_ppc(sbc_choices,edit_dict)\n",
    "edit_dict"
   ]
  },
  {
   "cell_type": "markdown",
   "id": "ee815737",
   "metadata": {},
   "source": [
    "## 3) As before, call `SBC` class and simulate datasets"
   ]
  },
  {
   "cell_type": "code",
   "execution_count": 7,
   "id": "3c8010b6",
   "metadata": {},
   "outputs": [
    {
     "name": "stdout",
     "output_type": "stream",
     "text": [
      "Done\n",
      "########################################\n"
     ]
    }
   ],
   "source": [
    "#Get SBC_CLASS\n",
    "sbc = SBC_CLASS(sbc_choices,edit_dict)\n",
    "\n",
    "#Simulate SNe Datasets\n",
    "sbc.simulate_truths()"
   ]
  },
  {
   "cell_type": "markdown",
   "id": "5df9988c",
   "metadata": {},
   "source": [
    "## 4) Update the BirdSnack fitting options, e.g. to fit Exp. $A_V^s$ simulated datasets using a Gamma distribution"
   ]
  },
  {
   "cell_type": "code",
   "execution_count": 8,
   "id": "d1ace0c3",
   "metadata": {},
   "outputs": [
    {
     "name": "stdout",
     "output_type": "stream",
     "text": [
      "Completed fitting simulated datasets\n"
     ]
    }
   ],
   "source": [
    "#PPC Recovery of nuA=1; Applying Gamma dist. to fit Exp-simulated Data\n",
    "BIRDSNACK_EDIT_DICT = {'analysis_parameters':\n",
    "                        {'HBM_savekey':'PPC_ExpFitGamma',\n",
    "                        'AVprior':'Gamma','n_warmup':1000,'n_sampling':3000,'n_thin':1000}}\n",
    "\n",
    "sbc.fit_truths(edit_dict=BIRDSNACK_EDIT_DICT)"
   ]
  },
  {
   "cell_type": "markdown",
   "id": "a9536e76",
   "metadata": {},
   "source": [
    "## 5) Plot results.\n",
    "\n",
    "See custom plotting scripts in `sbc/plotting_scripts/`."
   ]
  }
 ],
 "metadata": {
  "kernelspec": {
   "display_name": "Python 3 (ipykernel)",
   "language": "python",
   "name": "python3"
  },
  "language_info": {
   "codemirror_mode": {
    "name": "ipython",
    "version": 3
   },
   "file_extension": ".py",
   "mimetype": "text/x-python",
   "name": "python",
   "nbconvert_exporter": "python",
   "pygments_lexer": "ipython3",
   "version": "3.7.13"
  }
 },
 "nbformat": 4,
 "nbformat_minor": 5
}
